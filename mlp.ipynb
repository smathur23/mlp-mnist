{
 "cells": [
  {
   "cell_type": "markdown",
   "metadata": {},
   "source": [
    "# MLP for MNIST Digit Recognition"
   ]
  },
  {
   "cell_type": "code",
   "execution_count": 563,
   "metadata": {},
   "outputs": [],
   "source": [
    "import torch\n",
    "import torch.nn.functional as F"
   ]
  },
  {
   "cell_type": "code",
   "execution_count": 564,
   "metadata": {},
   "outputs": [],
   "source": [
    "from torchvision import datasets, transforms"
   ]
  },
  {
   "cell_type": "code",
   "execution_count": 565,
   "metadata": {},
   "outputs": [],
   "source": [
    "g = torch.Generator().manual_seed(2147483647)"
   ]
  },
  {
   "cell_type": "code",
   "execution_count": 566,
   "metadata": {},
   "outputs": [],
   "source": [
    "transform = transforms.Compose([\n",
    "    transforms.ToTensor(),\n",
    "    transforms.Normalize((0.5,), (0.5,))\n",
    "])"
   ]
  },
  {
   "cell_type": "code",
   "execution_count": 567,
   "metadata": {},
   "outputs": [],
   "source": [
    "trainset = datasets.MNIST(root='./data', train=True, download=True, transform=transform);"
   ]
  },
  {
   "cell_type": "code",
   "execution_count": 568,
   "metadata": {},
   "outputs": [],
   "source": [
    "import matplotlib.pyplot as plt"
   ]
  },
  {
   "cell_type": "code",
   "execution_count": 569,
   "metadata": {},
   "outputs": [
    {
     "data": {
      "text/plain": [
       "0"
      ]
     },
     "execution_count": 569,
     "metadata": {},
     "output_type": "execute_result"
    }
   ],
   "source": [
    "trainset[1][1]"
   ]
  },
  {
   "cell_type": "code",
   "execution_count": 698,
   "metadata": {},
   "outputs": [
    {
     "data": {
      "image/png": "[encoded data removed]",
      "text/plain": [
       "<Figure size 1500x300 with 10 Axes>"
      ]
     },
     "metadata": {},
     "output_type": "display_data"
    }
   ],
   "source": [
    "plt.figure(figsize=(15, 3))\n",
    "\n",
    "plots = 10\n",
    "ix = torch.randint(len(trainset), (plots,))\n",
    "sam = torch.utils.data.Subset(trainset, ix)\n",
    "i=0\n",
    "\n",
    "for image, label in sam:\n",
    "    plt.subplot(1, plots, i + 1)\n",
    "    plt.imshow(image.squeeze(), cmap='gray')\n",
    "    plt.title(f\"Label: {label}\")\n",
    "    plt.axis('off')\n",
    "    i += 1\n",
    "\n",
    "plt.tight_layout()\n",
    "plt.show()"
   ]
  },
  {
   "cell_type": "code",
   "execution_count": 571,
   "metadata": {},
   "outputs": [],
   "source": [
    "Xtrain = trainset.data.view(-1, 28*28) / 255.0\n",
    "Ytrain = trainset.targets"
   ]
  },
  {
   "cell_type": "code",
   "execution_count": 572,
   "metadata": {},
   "outputs": [
    {
     "data": {
      "text/plain": [
       "(torch.Size([60000, 784]), torch.Size([60000]))"
      ]
     },
     "execution_count": 572,
     "metadata": {},
     "output_type": "execute_result"
    }
   ],
   "source": [
    "Xtrain.shape, Ytrain.shape"
   ]
  },
  {
   "cell_type": "markdown",
   "metadata": {},
   "source": [
    "#### Parameter Initialization\n",
    "1 Hidden Layer (784x32), 1 BatchNorm Layer (2x32), 1 Output Layer (32x10) - 25k params"
   ]
  },
  {
   "cell_type": "code",
   "execution_count": 688,
   "metadata": {},
   "outputs": [
    {
     "name": "stdout",
     "output_type": "stream",
     "text": [
      "25482\n"
     ]
    }
   ],
   "source": [
    "hidden_size = 32\n",
    "\n",
    "W1 = torch.randn(28*28, hidden_size) * ((2/1.0001)/784)**0.5\n",
    "W2 = torch.randn(hidden_size, 10) * 0.1\n",
    "b2 = torch.zeros(10)\n",
    "\n",
    "bngain = torch.ones((1, hidden_size))\n",
    "bnbias = torch.zeros((1, hidden_size))\n",
    "\n",
    "\n",
    "params = [W1, bngain, bnbias, W2, b2]\n",
    "print(sum(p.nelement() for p in params))\n",
    "for p in params:\n",
    "  p.requires_grad = True"
   ]
  },
  {
   "cell_type": "code",
   "execution_count": 689,
   "metadata": {},
   "outputs": [
    {
     "name": "stdout",
     "output_type": "stream",
     "text": [
      "torch.Size([784, 32])\n",
      "torch.Size([1, 32])\n",
      "torch.Size([1, 32])\n",
      "torch.Size([32, 10])\n",
      "torch.Size([10])\n"
     ]
    }
   ],
   "source": [
    "for p in params:\n",
    "    print(p.shape)"
   ]
  },
  {
   "cell_type": "code",
   "execution_count": 690,
   "metadata": {},
   "outputs": [
    {
     "name": "stdout",
     "output_type": "stream",
     "text": [
      "      0/  50000: 2.3669\n",
      "  10000/  50000: 0.0874\n",
      "  20000/  50000: 0.0535\n",
      "  30000/  50000: 0.1473\n",
      "  40000/  50000: 0.0220\n",
      "  50000/  50000: 0.1228\n"
     ]
    }
   ],
   "source": [
    "steps = 50000\n",
    "batch_size = 32\n",
    "losses = []\n",
    "\n",
    "with torch.no_grad():\n",
    "    for i in range(steps):\n",
    "\n",
    "        batchi = torch.randint(0, Xtrain.shape[0], (batch_size,))\n",
    "        Xb, Yb = Xtrain[batchi], Ytrain[batchi] # (32, 784), (32,)\n",
    "        # Forward pass\n",
    "        hprebn = Xb @ W1 #(32 x 784) x (784 x 32) -> (32 x 128)\n",
    "        bnmean = hprebn.mean(0, keepdim=True)\n",
    "        bnvar = hprebn.var(0, keepdim=True, unbiased=True)\n",
    "        bnvar_inv = (bnvar + 1e-5)**-0.5\n",
    "        bnraw = (hprebn - bnmean) * bnvar_inv\n",
    "        hpreact = bngain * bnraw + bnbias\n",
    "\n",
    "        h = F.leaky_relu(hpreact) # (32 x 128)\n",
    "\n",
    "        logits = h @ W2 + b2 # (32 x 32) x (32 x 10) -> (32 x 10)\n",
    "\n",
    "        # Loss\n",
    "        loss = F.cross_entropy(logits, Yb)\n",
    "        # logit_maxes = logits.max(1, keepdim=True).values # (32 x 1)\n",
    "        # norm_logits = logits - logit_maxes # (32 x 10)\n",
    "        # counts = norm_logits.exp() # (32 x 10)\n",
    "        # counts_sum = counts.sum(1, keepdims=True) # (32 x 1)\n",
    "        # counts_sum_inv = counts_sum**-1 # (32 x 1)\n",
    "        # probs = counts * counts_sum_inv # (32 x 10)\n",
    "        # logprobs = probs.log() # (32 x 10)\n",
    "        # loss = -logprobs[range(batch_size), Yb].mean() # (1)\n",
    "\n",
    "        dlogits = F.softmax(logits, 1)\n",
    "        dlogits[range(batch_size), Yb] -= 1\n",
    "        dlogits /= batch_size\n",
    "\n",
    "        dh = dlogits @ W2.T\n",
    "        dW2 = h.T @ dlogits\n",
    "        db2 = dlogits.sum(0)\n",
    "\n",
    "        dhpreact = h/hpreact\n",
    "        dhpreact = dhpreact.masked_fill(torch.isnan(dhpreact), 1.0) * dh\n",
    "        dbngain = (bnraw * dhpreact).sum(0, keepdim=True)\n",
    "        dbnbias = dhpreact.sum(0, keepdim=True)\n",
    "        dhprebn = bngain * bnraw*(dhpreact - (1/batch_size)*dhpreact.sum(0) - (bnraw/(batch_size-1))*(dhpreact * bnraw).sum(0))\n",
    "\n",
    "        dW1 = Xb.T @ dhprebn\n",
    "\n",
    "        grads = [dW1, dbngain, dbnbias, dW2, db2]\n",
    "\n",
    "        for p in params:\n",
    "            p.grad = None\n",
    "        #loss.backward()\n",
    "\n",
    "        # update\n",
    "        lr = 0.1 if i < 40000 else 0.01\n",
    "        for p, grad in zip(params, grads):\n",
    "            # p.data += -lr * p.grad\n",
    "            p.data += -lr * grad\n",
    "        \n",
    "        if i % 10000 == 0:\n",
    "            print(f'{i:7d}/{steps:7d}: {loss.item():.4f}')\n",
    "        losses.append(loss.log10().item())\n",
    "        \n",
    "    print(f'{steps:7d}/{steps:7d}: {loss.item():.4f}')"
   ]
  },
  {
   "cell_type": "code",
   "execution_count": null,
   "metadata": {},
   "outputs": [
    {
     "name": "stdout",
     "output_type": "stream",
     "text": [
      "torch.Size([784, 128])\n",
      "torch.Size([1, 128])\n",
      "torch.Size([1, 128])\n",
      "torch.Size([128, 10])\n",
      "torch.Size([10])\n"
     ]
    }
   ],
   "source": [
    "dlogits = F.softmax(logits, 1)\n",
    "dlogits[range(batch_size), Yb] -= 1\n",
    "dlogits /= batch_size\n",
    "\n",
    "dh = dlogits @ W2.T\n",
    "dW2 = h.T @ dlogits\n",
    "db2 = dlogits.sum(0)\n",
    "\n",
    "dhpreact = h/hpreact * dh\n",
    "dbngain = (bnraw * dhpreact).sum(0, keepdim=True)\n",
    "dbnbias = dhpreact.sum(0, keepdim=True)\n",
    "dhprebn = bngain * bnraw*(dhpreact - (1/batch_size)*dhpreact.sum(0) - (bnraw/(batch_size-1))*(dhpreact * bnraw).sum(0))\n",
    "\n",
    "dW1 = Xb.T @ dhprebn\n",
    "grads = [dW1, dbngain, dbnbias, dW2, db2]\n",
    "for g in grads:\n",
    "    print(g.shape)"
   ]
  },
  {
   "cell_type": "code",
   "execution_count": 691,
   "metadata": {},
   "outputs": [
    {
     "data": {
      "text/plain": [
       "[<matplotlib.lines.Line2D at 0x1afc744c170>]"
      ]
     },
     "execution_count": 691,
     "metadata": {},
     "output_type": "execute_result"
    },
    {
     "data": {
      "image/png": "[encoded data removed]",
      "text/plain": [
       "<Figure size 640x480 with 1 Axes>"
      ]
     },
     "metadata": {},
     "output_type": "display_data"
    }
   ],
   "source": [
    "plt.plot(losses)"
   ]
  },
  {
   "cell_type": "code",
   "execution_count": 577,
   "metadata": {},
   "outputs": [
    {
     "data": {
      "text/plain": [
       "-3.325838327407837"
      ]
     },
     "execution_count": 577,
     "metadata": {},
     "output_type": "execute_result"
    }
   ],
   "source": [
    "losses[-1]"
   ]
  },
  {
   "cell_type": "code",
   "execution_count": 578,
   "metadata": {},
   "outputs": [],
   "source": [
    "testset = datasets.MNIST(root='./data', train=False, download=False, transform=transform);"
   ]
  },
  {
   "cell_type": "code",
   "execution_count": 587,
   "metadata": {},
   "outputs": [],
   "source": [
    "Xtest = testset.data.view(-1, 28*28) / 255.0 \n",
    "Ytest = testset.targets"
   ]
  },
  {
   "cell_type": "code",
   "execution_count": 693,
   "metadata": {},
   "outputs": [
    {
     "data": {
      "text/plain": [
       "(-0.5, 27.5, 27.5, -0.5)"
      ]
     },
     "execution_count": 693,
     "metadata": {},
     "output_type": "execute_result"
    },
    {
     "data": {
      "image/png": "[encoded data removed]",
      "text/plain": [
       "<Figure size 640x480 with 1 Axes>"
      ]
     },
     "metadata": {},
     "output_type": "display_data"
    }
   ],
   "source": [
    "im_index = 191\n",
    "image = Xtest[im_index].view(28, 28)\n",
    "plt.imshow(image, cmap='gray')\n",
    "plt.title(f'Label: {Ytest[im_index]}')\n",
    "plt.axis('off')"
   ]
  },
  {
   "cell_type": "code",
   "execution_count": 694,
   "metadata": {},
   "outputs": [],
   "source": [
    "with torch.no_grad():\n",
    "    # Forward pass\n",
    "    bruh = Xtrain @ W1\n",
    "    bnmean_tot = bruh.mean(0, keepdim=True)\n",
    "    bnstdi_tot = bruh.std(0, keepdim=True)\n"
   ]
  },
  {
   "cell_type": "code",
   "execution_count": 581,
   "metadata": {},
   "outputs": [
    {
     "data": {
      "text/plain": [
       "(torch.Size([1, 128]), torch.Size([1, 128]))"
      ]
     },
     "execution_count": 581,
     "metadata": {},
     "output_type": "execute_result"
    }
   ],
   "source": [
    "bnstdi_tot.shape, bnmean_tot.shape"
   ]
  },
  {
   "cell_type": "code",
   "execution_count": 695,
   "metadata": {},
   "outputs": [],
   "source": [
    "def predict(im):\n",
    "    with torch.no_grad():\n",
    "        prebn = im.view(1, -1) @ W1\n",
    "        preact = bngain * (prebn - bnmean_tot) / bnstdi_tot + bnbias\n",
    "        hs = F.leaky_relu(preact)\n",
    "        scores = hs @ W2 + b2\n",
    "    return torch.argmax(scores, dim=1).item()"
   ]
  },
  {
   "cell_type": "code",
   "execution_count": 696,
   "metadata": {},
   "outputs": [
    {
     "data": {
      "text/plain": [
       "1"
      ]
     },
     "execution_count": 696,
     "metadata": {},
     "output_type": "execute_result"
    }
   ],
   "source": [
    "predict(image)"
   ]
  },
  {
   "cell_type": "code",
   "execution_count": 697,
   "metadata": {},
   "outputs": [
    {
     "data": {
      "text/plain": [
       "96.65"
      ]
     },
     "execution_count": 697,
     "metadata": {},
     "output_type": "execute_result"
    },
    {
     "data": {
      "text/plain": [
       "<Figure size 1500x300 with 0 Axes>"
      ]
     },
     "metadata": {},
     "output_type": "display_data"
    }
   ],
   "source": [
    "plt.figure(figsize=(15, 3));\n",
    "plotting = False\n",
    "r = len(Xtest)\n",
    "wrong = 0\n",
    "predicted = {}\n",
    "for i in range(r):\n",
    "    if plotting: plt.subplot(1, r, i + 1)\n",
    "    digit = Xtest[i].view(-1)\n",
    "    label = Ytest[i]\n",
    "    if plotting: plt.imshow(digit.view(28, 28), cmap='gray')\n",
    "    pred = predict(digit)\n",
    "    if plotting: plt.title(f\"Label: {label}\\nPred: {pred}\")\n",
    "    if plotting: plt.axis('off')\n",
    "    if (pred != label):\n",
    "        wrong += 1\n",
    "    if pred not in predicted:\n",
    "        predicted[pred] = 0\n",
    "    else:\n",
    "        predicted[pred] += 1\n",
    "(1 - wrong/r) * 100"
   ]
  },
  {
   "cell_type": "markdown",
   "metadata": {},
   "source": [
    "### 96.65% accuracy on unseen test data"
   ]
  }
 ],
 "metadata": {
  "kernelspec": {
   "display_name": "mlpvenv",
   "language": "python",
   "name": "python3"
  },
  "language_info": {
   "codemirror_mode": {
    "name": "ipython",
    "version": 3
   },
   "file_extension": ".py",
   "mimetype": "text/x-python",
   "name": "python",
   "nbconvert_exporter": "python",
   "pygments_lexer": "ipython3",
   "version": "3.12.2"
  }
 },
 "nbformat": 4,
 "nbformat_minor": 2
}
